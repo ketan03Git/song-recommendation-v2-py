{
 "cells": [
  {
   "cell_type": "code",
   "execution_count": 25,
   "id": "d498067c-29dc-4165-8f5c-125cc713287b",
   "metadata": {},
   "outputs": [
    {
     "ename": "SyntaxError",
     "evalue": "Missing parentheses in call to 'print'. Did you mean print(...)? (2517929214.py, line 1)",
     "output_type": "error",
     "traceback": [
      "\u001b[1;36m  Cell \u001b[1;32mIn[25], line 1\u001b[1;36m\u001b[0m\n\u001b[1;33m    print\"hell\"\u001b[0m\n\u001b[1;37m    ^\u001b[0m\n\u001b[1;31mSyntaxError\u001b[0m\u001b[1;31m:\u001b[0m Missing parentheses in call to 'print'. Did you mean print(...)?\n"
     ]
    }
   ],
   "source": [
    "print\"hell\""
   ]
  },
  {
   "cell_type": "code",
   "execution_count": 26,
   "id": "b39f31e2-5fc5-40a3-8ca9-0fa730596bc0",
   "metadata": {},
   "outputs": [],
   "source": [
    "import pandas as pd"
   ]
  },
  {
   "cell_type": "code",
   "execution_count": 27,
   "id": "f849e798-243a-4200-a4d6-24e9ef327454",
   "metadata": {},
   "outputs": [],
   "source": [
    "df = pd.read_csv(\"spotify_millsongdata.csv\")"
   ]
  },
  {
   "cell_type": "code",
   "execution_count": null,
   "id": "105f5f9b-28ba-4d90-9175-0d1d38ff15ad",
   "metadata": {},
   "outputs": [],
   "source": []
  },
  {
   "cell_type": "code",
   "execution_count": 28,
   "id": "8f00421d-b6e9-419b-98c4-6cd33dea1ff1",
   "metadata": {},
   "outputs": [
    {
     "data": {
      "text/html": [
       "<div>\n",
       "<style scoped>\n",
       "    .dataframe tbody tr th:only-of-type {\n",
       "        vertical-align: middle;\n",
       "    }\n",
       "\n",
       "    .dataframe tbody tr th {\n",
       "        vertical-align: top;\n",
       "    }\n",
       "\n",
       "    .dataframe thead th {\n",
       "        text-align: right;\n",
       "    }\n",
       "</style>\n",
       "<table border=\"1\" class=\"dataframe\">\n",
       "  <thead>\n",
       "    <tr style=\"text-align: right;\">\n",
       "      <th></th>\n",
       "      <th>artist</th>\n",
       "      <th>song</th>\n",
       "      <th>link</th>\n",
       "      <th>text</th>\n",
       "    </tr>\n",
       "  </thead>\n",
       "  <tbody>\n",
       "    <tr>\n",
       "      <th>0</th>\n",
       "      <td>ABBA</td>\n",
       "      <td>Ahe's My Kind Of Girl</td>\n",
       "      <td>/a/abba/ahes+my+kind+of+girl_20598417.html</td>\n",
       "      <td>Look at her face, it's a wonderful face  \\r\\nA...</td>\n",
       "    </tr>\n",
       "    <tr>\n",
       "      <th>1</th>\n",
       "      <td>ABBA</td>\n",
       "      <td>Andante, Andante</td>\n",
       "      <td>/a/abba/andante+andante_20002708.html</td>\n",
       "      <td>Take it easy with me, please  \\r\\nTouch me gen...</td>\n",
       "    </tr>\n",
       "    <tr>\n",
       "      <th>2</th>\n",
       "      <td>ABBA</td>\n",
       "      <td>As Good As New</td>\n",
       "      <td>/a/abba/as+good+as+new_20003033.html</td>\n",
       "      <td>I'll never know why I had to go  \\r\\nWhy I had...</td>\n",
       "    </tr>\n",
       "    <tr>\n",
       "      <th>3</th>\n",
       "      <td>ABBA</td>\n",
       "      <td>Bang</td>\n",
       "      <td>/a/abba/bang_20598415.html</td>\n",
       "      <td>Making somebody happy is a question of give an...</td>\n",
       "    </tr>\n",
       "    <tr>\n",
       "      <th>4</th>\n",
       "      <td>ABBA</td>\n",
       "      <td>Bang-A-Boomerang</td>\n",
       "      <td>/a/abba/bang+a+boomerang_20002668.html</td>\n",
       "      <td>Making somebody happy is a question of give an...</td>\n",
       "    </tr>\n",
       "  </tbody>\n",
       "</table>\n",
       "</div>"
      ],
      "text/plain": [
       "  artist                   song                                        link  \\\n",
       "0   ABBA  Ahe's My Kind Of Girl  /a/abba/ahes+my+kind+of+girl_20598417.html   \n",
       "1   ABBA       Andante, Andante       /a/abba/andante+andante_20002708.html   \n",
       "2   ABBA         As Good As New        /a/abba/as+good+as+new_20003033.html   \n",
       "3   ABBA                   Bang                  /a/abba/bang_20598415.html   \n",
       "4   ABBA       Bang-A-Boomerang      /a/abba/bang+a+boomerang_20002668.html   \n",
       "\n",
       "                                                text  \n",
       "0  Look at her face, it's a wonderful face  \\r\\nA...  \n",
       "1  Take it easy with me, please  \\r\\nTouch me gen...  \n",
       "2  I'll never know why I had to go  \\r\\nWhy I had...  \n",
       "3  Making somebody happy is a question of give an...  \n",
       "4  Making somebody happy is a question of give an...  "
      ]
     },
     "execution_count": 28,
     "metadata": {},
     "output_type": "execute_result"
    }
   ],
   "source": [
    "df.head(5)"
   ]
  },
  {
   "cell_type": "code",
   "execution_count": 29,
   "id": "328fcf40-2a02-442d-b080-f9dcbd385887",
   "metadata": {},
   "outputs": [
    {
     "data": {
      "text/html": [
       "<div>\n",
       "<style scoped>\n",
       "    .dataframe tbody tr th:only-of-type {\n",
       "        vertical-align: middle;\n",
       "    }\n",
       "\n",
       "    .dataframe tbody tr th {\n",
       "        vertical-align: top;\n",
       "    }\n",
       "\n",
       "    .dataframe thead th {\n",
       "        text-align: right;\n",
       "    }\n",
       "</style>\n",
       "<table border=\"1\" class=\"dataframe\">\n",
       "  <thead>\n",
       "    <tr style=\"text-align: right;\">\n",
       "      <th></th>\n",
       "      <th>artist</th>\n",
       "      <th>song</th>\n",
       "      <th>link</th>\n",
       "      <th>text</th>\n",
       "    </tr>\n",
       "  </thead>\n",
       "  <tbody>\n",
       "    <tr>\n",
       "      <th>57645</th>\n",
       "      <td>Ziggy Marley</td>\n",
       "      <td>Good Old Days</td>\n",
       "      <td>/z/ziggy+marley/good+old+days_10198588.html</td>\n",
       "      <td>Irie days come on play  \\r\\nLet the angels fly...</td>\n",
       "    </tr>\n",
       "    <tr>\n",
       "      <th>57646</th>\n",
       "      <td>Ziggy Marley</td>\n",
       "      <td>Hand To Mouth</td>\n",
       "      <td>/z/ziggy+marley/hand+to+mouth_20531167.html</td>\n",
       "      <td>Power to the workers  \\r\\nMore power  \\r\\nPowe...</td>\n",
       "    </tr>\n",
       "    <tr>\n",
       "      <th>57647</th>\n",
       "      <td>Zwan</td>\n",
       "      <td>Come With Me</td>\n",
       "      <td>/z/zwan/come+with+me_20148981.html</td>\n",
       "      <td>all you need  \\r\\nis something i'll believe  \\...</td>\n",
       "    </tr>\n",
       "    <tr>\n",
       "      <th>57648</th>\n",
       "      <td>Zwan</td>\n",
       "      <td>Desire</td>\n",
       "      <td>/z/zwan/desire_20148986.html</td>\n",
       "      <td>northern star  \\r\\nam i frightened  \\r\\nwhere ...</td>\n",
       "    </tr>\n",
       "    <tr>\n",
       "      <th>57649</th>\n",
       "      <td>Zwan</td>\n",
       "      <td>Heartsong</td>\n",
       "      <td>/z/zwan/heartsong_20148991.html</td>\n",
       "      <td>come in  \\r\\nmake yourself at home  \\r\\ni'm a ...</td>\n",
       "    </tr>\n",
       "  </tbody>\n",
       "</table>\n",
       "</div>"
      ],
      "text/plain": [
       "             artist           song  \\\n",
       "57645  Ziggy Marley  Good Old Days   \n",
       "57646  Ziggy Marley  Hand To Mouth   \n",
       "57647          Zwan   Come With Me   \n",
       "57648          Zwan         Desire   \n",
       "57649          Zwan      Heartsong   \n",
       "\n",
       "                                              link  \\\n",
       "57645  /z/ziggy+marley/good+old+days_10198588.html   \n",
       "57646  /z/ziggy+marley/hand+to+mouth_20531167.html   \n",
       "57647           /z/zwan/come+with+me_20148981.html   \n",
       "57648                 /z/zwan/desire_20148986.html   \n",
       "57649              /z/zwan/heartsong_20148991.html   \n",
       "\n",
       "                                                    text  \n",
       "57645  Irie days come on play  \\r\\nLet the angels fly...  \n",
       "57646  Power to the workers  \\r\\nMore power  \\r\\nPowe...  \n",
       "57647  all you need  \\r\\nis something i'll believe  \\...  \n",
       "57648  northern star  \\r\\nam i frightened  \\r\\nwhere ...  \n",
       "57649  come in  \\r\\nmake yourself at home  \\r\\ni'm a ...  "
      ]
     },
     "execution_count": 29,
     "metadata": {},
     "output_type": "execute_result"
    }
   ],
   "source": [
    "df.tail(5)"
   ]
  },
  {
   "cell_type": "code",
   "execution_count": 30,
   "id": "32af5a11-492c-4454-8b47-8f5b335563d7",
   "metadata": {},
   "outputs": [],
   "source": [
    "df = df.sample(5000).drop('link',axis=1).reset_index(drop=True)"
   ]
  },
  {
   "cell_type": "code",
   "execution_count": 31,
   "id": "bbdc5bb8-8dcb-4600-8b4e-622419a49be4",
   "metadata": {},
   "outputs": [
    {
     "data": {
      "text/html": [
       "<div>\n",
       "<style scoped>\n",
       "    .dataframe tbody tr th:only-of-type {\n",
       "        vertical-align: middle;\n",
       "    }\n",
       "\n",
       "    .dataframe tbody tr th {\n",
       "        vertical-align: top;\n",
       "    }\n",
       "\n",
       "    .dataframe thead th {\n",
       "        text-align: right;\n",
       "    }\n",
       "</style>\n",
       "<table border=\"1\" class=\"dataframe\">\n",
       "  <thead>\n",
       "    <tr style=\"text-align: right;\">\n",
       "      <th></th>\n",
       "      <th>artist</th>\n",
       "      <th>song</th>\n",
       "      <th>text</th>\n",
       "    </tr>\n",
       "  </thead>\n",
       "  <tbody>\n",
       "    <tr>\n",
       "      <th>0</th>\n",
       "      <td>Diana Ross</td>\n",
       "      <td>I'm A Winner</td>\n",
       "      <td>I roll the dice  \\r\\nSeven eleven  \\r\\nYou'll ...</td>\n",
       "    </tr>\n",
       "    <tr>\n",
       "      <th>1</th>\n",
       "      <td>Iron Maiden</td>\n",
       "      <td>These Colours Don't Run</td>\n",
       "      <td>It's the same in every country  \\r\\nWhen you s...</td>\n",
       "    </tr>\n",
       "    <tr>\n",
       "      <th>2</th>\n",
       "      <td>Manowar</td>\n",
       "      <td>The Crown And The Ring</td>\n",
       "      <td>From a battle I've come  \\r\\nTo a battle I rid...</td>\n",
       "    </tr>\n",
       "    <tr>\n",
       "      <th>3</th>\n",
       "      <td>ZZ Top</td>\n",
       "      <td>Burger Man</td>\n",
       "      <td>My charcoal's getting red hot,  \\r\\nPut your o...</td>\n",
       "    </tr>\n",
       "    <tr>\n",
       "      <th>4</th>\n",
       "      <td>Backstreet Boys</td>\n",
       "      <td>Everything But Mine</td>\n",
       "      <td>Walking along the sky  \\r\\nChasing a glimpse o...</td>\n",
       "    </tr>\n",
       "  </tbody>\n",
       "</table>\n",
       "</div>"
      ],
      "text/plain": [
       "            artist                     song  \\\n",
       "0       Diana Ross             I'm A Winner   \n",
       "1      Iron Maiden  These Colours Don't Run   \n",
       "2          Manowar   The Crown And The Ring   \n",
       "3           ZZ Top               Burger Man   \n",
       "4  Backstreet Boys      Everything But Mine   \n",
       "\n",
       "                                                text  \n",
       "0  I roll the dice  \\r\\nSeven eleven  \\r\\nYou'll ...  \n",
       "1  It's the same in every country  \\r\\nWhen you s...  \n",
       "2  From a battle I've come  \\r\\nTo a battle I rid...  \n",
       "3  My charcoal's getting red hot,  \\r\\nPut your o...  \n",
       "4  Walking along the sky  \\r\\nChasing a glimpse o...  "
      ]
     },
     "execution_count": 31,
     "metadata": {},
     "output_type": "execute_result"
    }
   ],
   "source": [
    "df.head(5)"
   ]
  },
  {
   "cell_type": "code",
   "execution_count": 32,
   "id": "93e691c2-40f6-4d24-ad42-bee9005d2a65",
   "metadata": {},
   "outputs": [
    {
     "data": {
      "text/plain": [
       "(5000, 3)"
      ]
     },
     "execution_count": 32,
     "metadata": {},
     "output_type": "execute_result"
    }
   ],
   "source": [
    "df.shape"
   ]
  },
  {
   "cell_type": "code",
   "execution_count": 33,
   "id": "443d233d-63be-42aa-900a-f4ad808f9972",
   "metadata": {},
   "outputs": [
    {
     "data": {
      "text/plain": [
       "\"I roll the dice  \\r\\nSeven eleven  \\r\\nYou'll either take me down  \\r\\nOr you'll take me to heaven  \\r\\nAnd I'm so glad  \\r\\nI took the chance on you baby  \\r\\nI said I'm so glad  \\r\\nI took the chance on you baby  \\r\\nMy friends all say  \\r\\nHe don't play by the rules  \\r\\nSo listen  \\r\\nDon't you be no fool  \\r\\nDon't you know, you're just a beginner  \\r\\nSo look at me now  \\r\\nI'm a winner  \\r\\nI'm a winner  \\r\\nYes, I am  \\r\\nShe's a winner  \\r\\nYeah, yes I am  \\r\\nShe's a winner  \\r\\nLike a roulette wheel  \\r\\nSpinning around in my head  \\r\\nI put my chips on nine  \\r\\nGamblin' you'd be mine  \\r\\nAnd I'm so glad  \\r\\nI took a chance on you baby  \\r\\nSay I'm so glad  \\r\\nI took the chance on you baby  \\r\\nMy friends all say  \\r\\nWe just don't understand it  \\r\\nYou play this game  \\r\\nYou'll come out empty handed  \\r\\n'Cause here we arrange her  \\r\\nAnd then shortchange her  \\r\\nBut I fooled them, y'all  \\r\\nI'm a winner  \\r\\nI'm a winner  \\r\\nYes I am  \\r\\nShe's a winner  \\r\\nYes I am  \\r\\nPut that money down  \\r\\nAnd put 'dem chips on nine  \\r\\nI'm a gambling girl  \\r\\nAnd I give all I got  \\r\\nSo I am at your love  \\r\\nAnd I hit the jackpot  \\r\\nAnd I'm so glad  \\r\\nI took a chance on you baby  \\r\\nI'm so glad  \\r\\nI took the chance on you baby  \\r\\nI'm a winner  \\r\\nYes I am  \\r\\nI'm a winner  \\r\\nYes I am\\r\\n\\r\\n\""
      ]
     },
     "execution_count": 33,
     "metadata": {},
     "output_type": "execute_result"
    }
   ],
   "source": [
    "df['text'][0]"
   ]
  },
  {
   "cell_type": "code",
   "execution_count": 34,
   "id": "dd119890-8e45-4cca-9ff3-cc60ef826b61",
   "metadata": {},
   "outputs": [
    {
     "data": {
      "text/plain": [
       "1    It's the same in every country  \\r\\nWhen you s...\n",
       "2    From a battle I've come  \\r\\nTo a battle I rid...\n",
       "3    My charcoal's getting red hot,  \\r\\nPut your o...\n",
       "4    Walking along the sky  \\r\\nChasing a glimpse o...\n",
       "Name: text, dtype: object"
      ]
     },
     "execution_count": 34,
     "metadata": {},
     "output_type": "execute_result"
    }
   ],
   "source": [
    "df['text'][1:5]"
   ]
  },
  {
   "cell_type": "markdown",
   "id": "035f5a93-d1b0-478c-ab32-6b012eec9565",
   "metadata": {},
   "source": [
    "Text Cleaning\\ Text Preprocessing"
   ]
  },
  {
   "cell_type": "code",
   "execution_count": null,
   "id": "a9638388-82b6-4212-aa75-a7fa0f4f1d0f",
   "metadata": {},
   "outputs": [],
   "source": []
  },
  {
   "cell_type": "code",
   "execution_count": 35,
   "id": "d76a1d21-b0a2-4d2f-b317-5cbb6ddbea22",
   "metadata": {},
   "outputs": [
    {
     "data": {
      "text/html": [
       "<div>\n",
       "<style scoped>\n",
       "    .dataframe tbody tr th:only-of-type {\n",
       "        vertical-align: middle;\n",
       "    }\n",
       "\n",
       "    .dataframe tbody tr th {\n",
       "        vertical-align: top;\n",
       "    }\n",
       "\n",
       "    .dataframe thead th {\n",
       "        text-align: right;\n",
       "    }\n",
       "</style>\n",
       "<table border=\"1\" class=\"dataframe\">\n",
       "  <thead>\n",
       "    <tr style=\"text-align: right;\">\n",
       "      <th></th>\n",
       "      <th>artist</th>\n",
       "      <th>song</th>\n",
       "      <th>text</th>\n",
       "    </tr>\n",
       "  </thead>\n",
       "  <tbody>\n",
       "    <tr>\n",
       "      <th>0</th>\n",
       "      <td>Diana Ross</td>\n",
       "      <td>I'm A Winner</td>\n",
       "      <td>I roll the dice  \\r\\nSeven eleven  \\r\\nYou'll ...</td>\n",
       "    </tr>\n",
       "    <tr>\n",
       "      <th>1</th>\n",
       "      <td>Iron Maiden</td>\n",
       "      <td>These Colours Don't Run</td>\n",
       "      <td>It's the same in every country  \\r\\nWhen you s...</td>\n",
       "    </tr>\n",
       "    <tr>\n",
       "      <th>2</th>\n",
       "      <td>Manowar</td>\n",
       "      <td>The Crown And The Ring</td>\n",
       "      <td>From a battle I've come  \\r\\nTo a battle I rid...</td>\n",
       "    </tr>\n",
       "    <tr>\n",
       "      <th>3</th>\n",
       "      <td>ZZ Top</td>\n",
       "      <td>Burger Man</td>\n",
       "      <td>My charcoal's getting red hot,  \\r\\nPut your o...</td>\n",
       "    </tr>\n",
       "    <tr>\n",
       "      <th>4</th>\n",
       "      <td>Backstreet Boys</td>\n",
       "      <td>Everything But Mine</td>\n",
       "      <td>Walking along the sky  \\r\\nChasing a glimpse o...</td>\n",
       "    </tr>\n",
       "    <tr>\n",
       "      <th>...</th>\n",
       "      <td>...</td>\n",
       "      <td>...</td>\n",
       "      <td>...</td>\n",
       "    </tr>\n",
       "    <tr>\n",
       "      <th>4995</th>\n",
       "      <td>Coldplay</td>\n",
       "      <td>Rainy Day</td>\n",
       "      <td>Then there was rain  \\r\\nThe sky wore a veil o...</td>\n",
       "    </tr>\n",
       "    <tr>\n",
       "      <th>4996</th>\n",
       "      <td>Radiohead</td>\n",
       "      <td>Pyramid Song</td>\n",
       "      <td>I jumped in the river, what did I see?  \\r\\nBl...</td>\n",
       "    </tr>\n",
       "    <tr>\n",
       "      <th>4997</th>\n",
       "      <td>Toto</td>\n",
       "      <td>Mad About You</td>\n",
       "      <td>There's something I must say  \\r\\nSomething I ...</td>\n",
       "    </tr>\n",
       "    <tr>\n",
       "      <th>4998</th>\n",
       "      <td>Celine Dion</td>\n",
       "      <td>If That's What It Takes</td>\n",
       "      <td>You're the bravest of hearts you're the strong...</td>\n",
       "    </tr>\n",
       "    <tr>\n",
       "      <th>4999</th>\n",
       "      <td>John Legend</td>\n",
       "      <td>Wake Up Everybody</td>\n",
       "      <td>Wake up everybody no more sleepin' in bed  \\r\\...</td>\n",
       "    </tr>\n",
       "  </tbody>\n",
       "</table>\n",
       "<p>5000 rows × 3 columns</p>\n",
       "</div>"
      ],
      "text/plain": [
       "               artist                     song  \\\n",
       "0          Diana Ross             I'm A Winner   \n",
       "1         Iron Maiden  These Colours Don't Run   \n",
       "2             Manowar   The Crown And The Ring   \n",
       "3              ZZ Top               Burger Man   \n",
       "4     Backstreet Boys      Everything But Mine   \n",
       "...               ...                      ...   \n",
       "4995         Coldplay                Rainy Day   \n",
       "4996        Radiohead             Pyramid Song   \n",
       "4997             Toto            Mad About You   \n",
       "4998      Celine Dion  If That's What It Takes   \n",
       "4999      John Legend        Wake Up Everybody   \n",
       "\n",
       "                                                   text  \n",
       "0     I roll the dice  \\r\\nSeven eleven  \\r\\nYou'll ...  \n",
       "1     It's the same in every country  \\r\\nWhen you s...  \n",
       "2     From a battle I've come  \\r\\nTo a battle I rid...  \n",
       "3     My charcoal's getting red hot,  \\r\\nPut your o...  \n",
       "4     Walking along the sky  \\r\\nChasing a glimpse o...  \n",
       "...                                                 ...  \n",
       "4995  Then there was rain  \\r\\nThe sky wore a veil o...  \n",
       "4996  I jumped in the river, what did I see?  \\r\\nBl...  \n",
       "4997  There's something I must say  \\r\\nSomething I ...  \n",
       "4998  You're the bravest of hearts you're the strong...  \n",
       "4999  Wake up everybody no more sleepin' in bed  \\r\\...  \n",
       "\n",
       "[5000 rows x 3 columns]"
      ]
     },
     "execution_count": 35,
     "metadata": {},
     "output_type": "execute_result"
    }
   ],
   "source": [
    "df"
   ]
  },
  {
   "cell_type": "code",
   "execution_count": 36,
   "id": "3fbdc481-cd43-4fe6-ac7e-a9801bdb2dcf",
   "metadata": {},
   "outputs": [
    {
     "data": {
      "text/html": [
       "<div>\n",
       "<style scoped>\n",
       "    .dataframe tbody tr th:only-of-type {\n",
       "        vertical-align: middle;\n",
       "    }\n",
       "\n",
       "    .dataframe tbody tr th {\n",
       "        vertical-align: top;\n",
       "    }\n",
       "\n",
       "    .dataframe thead th {\n",
       "        text-align: right;\n",
       "    }\n",
       "</style>\n",
       "<table border=\"1\" class=\"dataframe\">\n",
       "  <thead>\n",
       "    <tr style=\"text-align: right;\">\n",
       "      <th></th>\n",
       "      <th>artist</th>\n",
       "      <th>song</th>\n",
       "      <th>text</th>\n",
       "    </tr>\n",
       "  </thead>\n",
       "  <tbody>\n",
       "    <tr>\n",
       "      <th>0</th>\n",
       "      <td>Diana Ross</td>\n",
       "      <td>I'm A Winner</td>\n",
       "      <td>I roll the dice  \\r\\nSeven eleven  \\r\\nYou'll ...</td>\n",
       "    </tr>\n",
       "    <tr>\n",
       "      <th>1</th>\n",
       "      <td>Iron Maiden</td>\n",
       "      <td>These Colours Don't Run</td>\n",
       "      <td>It's the same in every country  \\r\\nWhen you s...</td>\n",
       "    </tr>\n",
       "    <tr>\n",
       "      <th>2</th>\n",
       "      <td>Manowar</td>\n",
       "      <td>The Crown And The Ring</td>\n",
       "      <td>From a battle I've come  \\r\\nTo a battle I rid...</td>\n",
       "    </tr>\n",
       "  </tbody>\n",
       "</table>\n",
       "</div>"
      ],
      "text/plain": [
       "        artist                     song  \\\n",
       "0   Diana Ross             I'm A Winner   \n",
       "1  Iron Maiden  These Colours Don't Run   \n",
       "2      Manowar   The Crown And The Ring   \n",
       "\n",
       "                                                text  \n",
       "0  I roll the dice  \\r\\nSeven eleven  \\r\\nYou'll ...  \n",
       "1  It's the same in every country  \\r\\nWhen you s...  \n",
       "2  From a battle I've come  \\r\\nTo a battle I rid...  "
      ]
     },
     "execution_count": 36,
     "metadata": {},
     "output_type": "execute_result"
    }
   ],
   "source": [
    "df.head(3)"
   ]
  },
  {
   "cell_type": "code",
   "execution_count": 39,
   "id": "bb7ea389-c282-46d0-8852-278a2e7f79f2",
   "metadata": {},
   "outputs": [],
   "source": [
    "df['text'] = df['text'].str.lower().replace(r'^\\w\\s',' ').replace('\\n',' ',regex=True)"
   ]
  },
  {
   "cell_type": "code",
   "execution_count": 40,
   "id": "55b166a8-5532-4aaf-bc2e-1351e6db726a",
   "metadata": {},
   "outputs": [
    {
     "data": {
      "text/plain": [
       "\"i roll the dice  \\r seven eleven  \\r you'll either take me down  \\r or you'll take me to heaven  \\r and i'm so glad  \\r i took the chance on you baby  \\r i said i'm so glad  \\r i took the chance on you baby  \\r my friends all say  \\r he don't play by the rules  \\r so listen  \\r don't you be no fool  \\r don't you know, you're just a beginner  \\r so look at me now  \\r i'm a winner  \\r i'm a winner  \\r yes, i am  \\r she's a winner  \\r yeah, yes i am  \\r she's a winner  \\r like a roulette wheel  \\r spinning around in my head  \\r i put my chips on nine  \\r gamblin' you'd be mine  \\r and i'm so glad  \\r i took a chance on you baby  \\r say i'm so glad  \\r i took the chance on you baby  \\r my friends all say  \\r we just don't understand it  \\r you play this game  \\r you'll come out empty handed  \\r 'cause here we arrange her  \\r and then shortchange her  \\r but i fooled them, y'all  \\r i'm a winner  \\r i'm a winner  \\r yes i am  \\r she's a winner  \\r yes i am  \\r put that money down  \\r and put 'dem chips on nine  \\r i'm a gambling girl  \\r and i give all i got  \\r so i am at your love  \\r and i hit the jackpot  \\r and i'm so glad  \\r i took a chance on you baby  \\r i'm so glad  \\r i took the chance on you baby  \\r i'm a winner  \\r yes i am  \\r i'm a winner  \\r yes i am\\r \\r \""
      ]
     },
     "execution_count": 40,
     "metadata": {},
     "output_type": "execute_result"
    }
   ],
   "source": [
    "df['text'][0]"
   ]
  },
  {
   "cell_type": "code",
   "execution_count": null,
   "id": "df4a0247-02bd-4765-ab3c-989b901ef5aa",
   "metadata": {},
   "outputs": [],
   "source": []
  }
 ],
 "metadata": {
  "kernelspec": {
   "display_name": "Python 3 (ipykernel)",
   "language": "python",
   "name": "python3"
  },
  "language_info": {
   "codemirror_mode": {
    "name": "ipython",
    "version": 3
   },
   "file_extension": ".py",
   "mimetype": "text/x-python",
   "name": "python",
   "nbconvert_exporter": "python",
   "pygments_lexer": "ipython3",
   "version": "3.12.2"
  }
 },
 "nbformat": 4,
 "nbformat_minor": 5
}
