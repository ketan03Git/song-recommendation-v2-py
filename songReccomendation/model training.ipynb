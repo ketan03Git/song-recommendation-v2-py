{
 "cells": [
  {
   "cell_type": "code",
   "execution_count": 1,
   "id": "d498067c-29dc-4165-8f5c-125cc713287b",
   "metadata": {},
   "outputs": [
    {
     "name": "stdout",
     "output_type": "stream",
     "text": [
      "hell\n"
     ]
    }
   ],
   "source": [
    "print(\"hell\")"
   ]
  },
  {
   "cell_type": "code",
   "execution_count": 2,
   "id": "b39f31e2-5fc5-40a3-8ca9-0fa730596bc0",
   "metadata": {},
   "outputs": [],
   "source": [
    "import pandas as pd"
   ]
  },
  {
   "cell_type": "code",
   "execution_count": 3,
   "id": "f849e798-243a-4200-a4d6-24e9ef327454",
   "metadata": {},
   "outputs": [],
   "source": [
    "df = pd.read_csv(\"spotify_millsongdata.csv\")"
   ]
  },
  {
   "cell_type": "code",
   "execution_count": null,
   "id": "105f5f9b-28ba-4d90-9175-0d1d38ff15ad",
   "metadata": {},
   "outputs": [],
   "source": []
  },
  {
   "cell_type": "code",
   "execution_count": 4,
   "id": "8f00421d-b6e9-419b-98c4-6cd33dea1ff1",
   "metadata": {},
   "outputs": [
    {
     "data": {
      "text/html": [
       "<div>\n",
       "<style scoped>\n",
       "    .dataframe tbody tr th:only-of-type {\n",
       "        vertical-align: middle;\n",
       "    }\n",
       "\n",
       "    .dataframe tbody tr th {\n",
       "        vertical-align: top;\n",
       "    }\n",
       "\n",
       "    .dataframe thead th {\n",
       "        text-align: right;\n",
       "    }\n",
       "</style>\n",
       "<table border=\"1\" class=\"dataframe\">\n",
       "  <thead>\n",
       "    <tr style=\"text-align: right;\">\n",
       "      <th></th>\n",
       "      <th>artist</th>\n",
       "      <th>song</th>\n",
       "      <th>link</th>\n",
       "      <th>text</th>\n",
       "    </tr>\n",
       "  </thead>\n",
       "  <tbody>\n",
       "    <tr>\n",
       "      <th>0</th>\n",
       "      <td>ABBA</td>\n",
       "      <td>Ahe's My Kind Of Girl</td>\n",
       "      <td>/a/abba/ahes+my+kind+of+girl_20598417.html</td>\n",
       "      <td>Look at her face, it's a wonderful face  \\r\\nA...</td>\n",
       "    </tr>\n",
       "    <tr>\n",
       "      <th>1</th>\n",
       "      <td>ABBA</td>\n",
       "      <td>Andante, Andante</td>\n",
       "      <td>/a/abba/andante+andante_20002708.html</td>\n",
       "      <td>Take it easy with me, please  \\r\\nTouch me gen...</td>\n",
       "    </tr>\n",
       "    <tr>\n",
       "      <th>2</th>\n",
       "      <td>ABBA</td>\n",
       "      <td>As Good As New</td>\n",
       "      <td>/a/abba/as+good+as+new_20003033.html</td>\n",
       "      <td>I'll never know why I had to go  \\r\\nWhy I had...</td>\n",
       "    </tr>\n",
       "    <tr>\n",
       "      <th>3</th>\n",
       "      <td>ABBA</td>\n",
       "      <td>Bang</td>\n",
       "      <td>/a/abba/bang_20598415.html</td>\n",
       "      <td>Making somebody happy is a question of give an...</td>\n",
       "    </tr>\n",
       "    <tr>\n",
       "      <th>4</th>\n",
       "      <td>ABBA</td>\n",
       "      <td>Bang-A-Boomerang</td>\n",
       "      <td>/a/abba/bang+a+boomerang_20002668.html</td>\n",
       "      <td>Making somebody happy is a question of give an...</td>\n",
       "    </tr>\n",
       "  </tbody>\n",
       "</table>\n",
       "</div>"
      ],
      "text/plain": [
       "  artist                   song                                        link  \\\n",
       "0   ABBA  Ahe's My Kind Of Girl  /a/abba/ahes+my+kind+of+girl_20598417.html   \n",
       "1   ABBA       Andante, Andante       /a/abba/andante+andante_20002708.html   \n",
       "2   ABBA         As Good As New        /a/abba/as+good+as+new_20003033.html   \n",
       "3   ABBA                   Bang                  /a/abba/bang_20598415.html   \n",
       "4   ABBA       Bang-A-Boomerang      /a/abba/bang+a+boomerang_20002668.html   \n",
       "\n",
       "                                                text  \n",
       "0  Look at her face, it's a wonderful face  \\r\\nA...  \n",
       "1  Take it easy with me, please  \\r\\nTouch me gen...  \n",
       "2  I'll never know why I had to go  \\r\\nWhy I had...  \n",
       "3  Making somebody happy is a question of give an...  \n",
       "4  Making somebody happy is a question of give an...  "
      ]
     },
     "execution_count": 4,
     "metadata": {},
     "output_type": "execute_result"
    }
   ],
   "source": [
    "df.head(5)"
   ]
  },
  {
   "cell_type": "code",
   "execution_count": 5,
   "id": "328fcf40-2a02-442d-b080-f9dcbd385887",
   "metadata": {},
   "outputs": [
    {
     "data": {
      "text/html": [
       "<div>\n",
       "<style scoped>\n",
       "    .dataframe tbody tr th:only-of-type {\n",
       "        vertical-align: middle;\n",
       "    }\n",
       "\n",
       "    .dataframe tbody tr th {\n",
       "        vertical-align: top;\n",
       "    }\n",
       "\n",
       "    .dataframe thead th {\n",
       "        text-align: right;\n",
       "    }\n",
       "</style>\n",
       "<table border=\"1\" class=\"dataframe\">\n",
       "  <thead>\n",
       "    <tr style=\"text-align: right;\">\n",
       "      <th></th>\n",
       "      <th>artist</th>\n",
       "      <th>song</th>\n",
       "      <th>link</th>\n",
       "      <th>text</th>\n",
       "    </tr>\n",
       "  </thead>\n",
       "  <tbody>\n",
       "    <tr>\n",
       "      <th>57645</th>\n",
       "      <td>Ziggy Marley</td>\n",
       "      <td>Good Old Days</td>\n",
       "      <td>/z/ziggy+marley/good+old+days_10198588.html</td>\n",
       "      <td>Irie days come on play  \\r\\nLet the angels fly...</td>\n",
       "    </tr>\n",
       "    <tr>\n",
       "      <th>57646</th>\n",
       "      <td>Ziggy Marley</td>\n",
       "      <td>Hand To Mouth</td>\n",
       "      <td>/z/ziggy+marley/hand+to+mouth_20531167.html</td>\n",
       "      <td>Power to the workers  \\r\\nMore power  \\r\\nPowe...</td>\n",
       "    </tr>\n",
       "    <tr>\n",
       "      <th>57647</th>\n",
       "      <td>Zwan</td>\n",
       "      <td>Come With Me</td>\n",
       "      <td>/z/zwan/come+with+me_20148981.html</td>\n",
       "      <td>all you need  \\r\\nis something i'll believe  \\...</td>\n",
       "    </tr>\n",
       "    <tr>\n",
       "      <th>57648</th>\n",
       "      <td>Zwan</td>\n",
       "      <td>Desire</td>\n",
       "      <td>/z/zwan/desire_20148986.html</td>\n",
       "      <td>northern star  \\r\\nam i frightened  \\r\\nwhere ...</td>\n",
       "    </tr>\n",
       "    <tr>\n",
       "      <th>57649</th>\n",
       "      <td>Zwan</td>\n",
       "      <td>Heartsong</td>\n",
       "      <td>/z/zwan/heartsong_20148991.html</td>\n",
       "      <td>come in  \\r\\nmake yourself at home  \\r\\ni'm a ...</td>\n",
       "    </tr>\n",
       "  </tbody>\n",
       "</table>\n",
       "</div>"
      ],
      "text/plain": [
       "             artist           song  \\\n",
       "57645  Ziggy Marley  Good Old Days   \n",
       "57646  Ziggy Marley  Hand To Mouth   \n",
       "57647          Zwan   Come With Me   \n",
       "57648          Zwan         Desire   \n",
       "57649          Zwan      Heartsong   \n",
       "\n",
       "                                              link  \\\n",
       "57645  /z/ziggy+marley/good+old+days_10198588.html   \n",
       "57646  /z/ziggy+marley/hand+to+mouth_20531167.html   \n",
       "57647           /z/zwan/come+with+me_20148981.html   \n",
       "57648                 /z/zwan/desire_20148986.html   \n",
       "57649              /z/zwan/heartsong_20148991.html   \n",
       "\n",
       "                                                    text  \n",
       "57645  Irie days come on play  \\r\\nLet the angels fly...  \n",
       "57646  Power to the workers  \\r\\nMore power  \\r\\nPowe...  \n",
       "57647  all you need  \\r\\nis something i'll believe  \\...  \n",
       "57648  northern star  \\r\\nam i frightened  \\r\\nwhere ...  \n",
       "57649  come in  \\r\\nmake yourself at home  \\r\\ni'm a ...  "
      ]
     },
     "execution_count": 5,
     "metadata": {},
     "output_type": "execute_result"
    }
   ],
   "source": [
    "df.tail(5)"
   ]
  },
  {
   "cell_type": "code",
   "execution_count": 6,
   "id": "32af5a11-492c-4454-8b47-8f5b335563d7",
   "metadata": {},
   "outputs": [],
   "source": [
    "df = df.sample(5000).drop('link',axis=1).reset_index(drop=True)"
   ]
  },
  {
   "cell_type": "code",
   "execution_count": 7,
   "id": "bbdc5bb8-8dcb-4600-8b4e-622419a49be4",
   "metadata": {},
   "outputs": [
    {
     "data": {
      "text/html": [
       "<div>\n",
       "<style scoped>\n",
       "    .dataframe tbody tr th:only-of-type {\n",
       "        vertical-align: middle;\n",
       "    }\n",
       "\n",
       "    .dataframe tbody tr th {\n",
       "        vertical-align: top;\n",
       "    }\n",
       "\n",
       "    .dataframe thead th {\n",
       "        text-align: right;\n",
       "    }\n",
       "</style>\n",
       "<table border=\"1\" class=\"dataframe\">\n",
       "  <thead>\n",
       "    <tr style=\"text-align: right;\">\n",
       "      <th></th>\n",
       "      <th>artist</th>\n",
       "      <th>song</th>\n",
       "      <th>text</th>\n",
       "    </tr>\n",
       "  </thead>\n",
       "  <tbody>\n",
       "    <tr>\n",
       "      <th>0</th>\n",
       "      <td>Verve</td>\n",
       "      <td>Lucky Man</td>\n",
       "      <td>Happiness  \\r\\nMore or less  \\r\\nIt's just a c...</td>\n",
       "    </tr>\n",
       "    <tr>\n",
       "      <th>1</th>\n",
       "      <td>ABBA</td>\n",
       "      <td>From A Twinkling Star To A Passing Angel</td>\n",
       "      <td>Twinkle, Twinkle little star  \\r\\nHow I wonder...</td>\n",
       "    </tr>\n",
       "    <tr>\n",
       "      <th>2</th>\n",
       "      <td>Judy Garland</td>\n",
       "      <td>Day In-Day Out</td>\n",
       "      <td>Day in, day out  \\r\\nThe same old hoodoo follo...</td>\n",
       "    </tr>\n",
       "    <tr>\n",
       "      <th>3</th>\n",
       "      <td>Clash</td>\n",
       "      <td>Long Time Jerk</td>\n",
       "      <td>Gonna scrape the trouble off my boots!  \\r\\n  ...</td>\n",
       "    </tr>\n",
       "    <tr>\n",
       "      <th>4</th>\n",
       "      <td>Bonnie Raitt</td>\n",
       "      <td>Walking The Dog</td>\n",
       "      <td>Mary Mac, dressed in black  \\r\\nSilver buttons...</td>\n",
       "    </tr>\n",
       "  </tbody>\n",
       "</table>\n",
       "</div>"
      ],
      "text/plain": [
       "         artist                                      song  \\\n",
       "0         Verve                                 Lucky Man   \n",
       "1          ABBA  From A Twinkling Star To A Passing Angel   \n",
       "2  Judy Garland                            Day In-Day Out   \n",
       "3         Clash                            Long Time Jerk   \n",
       "4  Bonnie Raitt                           Walking The Dog   \n",
       "\n",
       "                                                text  \n",
       "0  Happiness  \\r\\nMore or less  \\r\\nIt's just a c...  \n",
       "1  Twinkle, Twinkle little star  \\r\\nHow I wonder...  \n",
       "2  Day in, day out  \\r\\nThe same old hoodoo follo...  \n",
       "3  Gonna scrape the trouble off my boots!  \\r\\n  ...  \n",
       "4  Mary Mac, dressed in black  \\r\\nSilver buttons...  "
      ]
     },
     "execution_count": 7,
     "metadata": {},
     "output_type": "execute_result"
    }
   ],
   "source": [
    "df.head(5)"
   ]
  },
  {
   "cell_type": "code",
   "execution_count": 8,
   "id": "93e691c2-40f6-4d24-ad42-bee9005d2a65",
   "metadata": {},
   "outputs": [
    {
     "data": {
      "text/plain": [
       "(5000, 3)"
      ]
     },
     "execution_count": 8,
     "metadata": {},
     "output_type": "execute_result"
    }
   ],
   "source": [
    "df.shape"
   ]
  },
  {
   "cell_type": "code",
   "execution_count": 9,
   "id": "443d233d-63be-42aa-900a-f4ad808f9972",
   "metadata": {},
   "outputs": [
    {
     "data": {
      "text/plain": [
       "\"Happiness  \\r\\nMore or less  \\r\\nIt's just a change in me  \\r\\nSomething in my liberty  \\r\\nOh, my, my  \\r\\nHappiness  \\r\\nComing and going  \\r\\nI watch you look at me  \\r\\nWatch my fever growing  \\r\\nI know just where I am  \\r\\n  \\r\\nBut how many corners do I have to turn?  \\r\\nHow many times do I have to learn  \\r\\nAll the love I have is in my mind?  \\r\\n  \\r\\nWell, I'm a lucky man  \\r\\nWith fire in my hands  \\r\\n  \\r\\nHappiness  \\r\\nSomething in my own place  \\r\\nI'm standing naked  \\r\\nSmiling, I feel no disgrace  \\r\\nWith who I am  \\r\\n  \\r\\nHappiness  \\r\\nComing and going  \\r\\nI watch you look at me  \\r\\nWatch my fever growing  \\r\\nI know just who I am  \\r\\n  \\r\\nBut how many corners do I have to turn?  \\r\\nHow many times do I have to learn  \\r\\nAll the love I have is in my mind?  \\r\\n  \\r\\nI hope you understand  \\r\\nI hope you understand  \\r\\n  \\r\\nGotta love that'll never die  \\r\\n  \\r\\nHappiness  \\r\\nMore or less  \\r\\nIt's just a change in me  \\r\\nSomething in my liberty  \\r\\nHappiness  \\r\\nComing and going  \\r\\nI watch you look at me  \\r\\nWatch my fever growing  \\r\\nI know  \\r\\nOh, my, my  \\r\\nOh, my, my  \\r\\nOh, my, my  \\r\\nOh, my, my  \\r\\n  \\r\\nGotta love that'll never die  \\r\\nGotta love that'll never die  \\r\\nNo, no  \\r\\nI'm a lucky man  \\r\\n  \\r\\nIt's just a change in me  \\r\\nSomething in my liberty  \\r\\nIt's just a change in me  \\r\\nSomething in my liberty  \\r\\nIt's just a change in me  \\r\\nSomething in my liberty  \\r\\nOh, my, my  \\r\\nOh, my, my  \\r\\nIt's just a change in me  \\r\\nSomething in my liberty  \\r\\nOh, my, my  \\r\\nOh, my, my\\r\\n\\r\\n\""
      ]
     },
     "execution_count": 9,
     "metadata": {},
     "output_type": "execute_result"
    }
   ],
   "source": [
    "df['text'][0]"
   ]
  },
  {
   "cell_type": "code",
   "execution_count": 10,
   "id": "dd119890-8e45-4cca-9ff3-cc60ef826b61",
   "metadata": {},
   "outputs": [
    {
     "data": {
      "text/plain": [
       "1    Twinkle, Twinkle little star  \\r\\nHow I wonder...\n",
       "2    Day in, day out  \\r\\nThe same old hoodoo follo...\n",
       "3    Gonna scrape the trouble off my boots!  \\r\\n  ...\n",
       "4    Mary Mac, dressed in black  \\r\\nSilver buttons...\n",
       "Name: text, dtype: object"
      ]
     },
     "execution_count": 10,
     "metadata": {},
     "output_type": "execute_result"
    }
   ],
   "source": [
    "df['text'][1:5]"
   ]
  },
  {
   "cell_type": "markdown",
   "id": "035f5a93-d1b0-478c-ab32-6b012eec9565",
   "metadata": {},
   "source": [
    "Text Cleaning\\ Text Preprocessing"
   ]
  },
  {
   "cell_type": "code",
   "execution_count": null,
   "id": "a9638388-82b6-4212-aa75-a7fa0f4f1d0f",
   "metadata": {},
   "outputs": [],
   "source": []
  },
  {
   "cell_type": "code",
   "execution_count": 11,
   "id": "d76a1d21-b0a2-4d2f-b317-5cbb6ddbea22",
   "metadata": {},
   "outputs": [
    {
     "data": {
      "text/html": [
       "<div>\n",
       "<style scoped>\n",
       "    .dataframe tbody tr th:only-of-type {\n",
       "        vertical-align: middle;\n",
       "    }\n",
       "\n",
       "    .dataframe tbody tr th {\n",
       "        vertical-align: top;\n",
       "    }\n",
       "\n",
       "    .dataframe thead th {\n",
       "        text-align: right;\n",
       "    }\n",
       "</style>\n",
       "<table border=\"1\" class=\"dataframe\">\n",
       "  <thead>\n",
       "    <tr style=\"text-align: right;\">\n",
       "      <th></th>\n",
       "      <th>artist</th>\n",
       "      <th>song</th>\n",
       "      <th>text</th>\n",
       "    </tr>\n",
       "  </thead>\n",
       "  <tbody>\n",
       "    <tr>\n",
       "      <th>0</th>\n",
       "      <td>Verve</td>\n",
       "      <td>Lucky Man</td>\n",
       "      <td>Happiness  \\r\\nMore or less  \\r\\nIt's just a c...</td>\n",
       "    </tr>\n",
       "    <tr>\n",
       "      <th>1</th>\n",
       "      <td>ABBA</td>\n",
       "      <td>From A Twinkling Star To A Passing Angel</td>\n",
       "      <td>Twinkle, Twinkle little star  \\r\\nHow I wonder...</td>\n",
       "    </tr>\n",
       "    <tr>\n",
       "      <th>2</th>\n",
       "      <td>Judy Garland</td>\n",
       "      <td>Day In-Day Out</td>\n",
       "      <td>Day in, day out  \\r\\nThe same old hoodoo follo...</td>\n",
       "    </tr>\n",
       "    <tr>\n",
       "      <th>3</th>\n",
       "      <td>Clash</td>\n",
       "      <td>Long Time Jerk</td>\n",
       "      <td>Gonna scrape the trouble off my boots!  \\r\\n  ...</td>\n",
       "    </tr>\n",
       "    <tr>\n",
       "      <th>4</th>\n",
       "      <td>Bonnie Raitt</td>\n",
       "      <td>Walking The Dog</td>\n",
       "      <td>Mary Mac, dressed in black  \\r\\nSilver buttons...</td>\n",
       "    </tr>\n",
       "    <tr>\n",
       "      <th>...</th>\n",
       "      <td>...</td>\n",
       "      <td>...</td>\n",
       "      <td>...</td>\n",
       "    </tr>\n",
       "    <tr>\n",
       "      <th>4995</th>\n",
       "      <td>Yello</td>\n",
       "      <td>Sometimes</td>\n",
       "      <td>Sometimes I could just  \\r\\nSometimes I could ...</td>\n",
       "    </tr>\n",
       "    <tr>\n",
       "      <th>4996</th>\n",
       "      <td>Quarashi</td>\n",
       "      <td>Transparent Parents</td>\n",
       "      <td>(Well, well, well)  \\r\\n  \\r\\nWell I'm constan...</td>\n",
       "    </tr>\n",
       "    <tr>\n",
       "      <th>4997</th>\n",
       "      <td>Electric Light Orchestra</td>\n",
       "      <td>All Over The World</td>\n",
       "      <td>Everybody all around the world, gotta tell you...</td>\n",
       "    </tr>\n",
       "    <tr>\n",
       "      <th>4998</th>\n",
       "      <td>Queensryche</td>\n",
       "      <td>Someone Else?</td>\n",
       "      <td>When I fell from grace  \\r\\nI never realized  ...</td>\n",
       "    </tr>\n",
       "    <tr>\n",
       "      <th>4999</th>\n",
       "      <td>Chaka Khan</td>\n",
       "      <td>Love Has Fallen On Me</td>\n",
       "      <td>Love is a burning inside  \\r\\nI never had this...</td>\n",
       "    </tr>\n",
       "  </tbody>\n",
       "</table>\n",
       "<p>5000 rows × 3 columns</p>\n",
       "</div>"
      ],
      "text/plain": [
       "                        artist                                      song  \\\n",
       "0                        Verve                                 Lucky Man   \n",
       "1                         ABBA  From A Twinkling Star To A Passing Angel   \n",
       "2                 Judy Garland                            Day In-Day Out   \n",
       "3                        Clash                            Long Time Jerk   \n",
       "4                 Bonnie Raitt                           Walking The Dog   \n",
       "...                        ...                                       ...   \n",
       "4995                     Yello                                 Sometimes   \n",
       "4996                  Quarashi                       Transparent Parents   \n",
       "4997  Electric Light Orchestra                        All Over The World   \n",
       "4998               Queensryche                             Someone Else?   \n",
       "4999                Chaka Khan                     Love Has Fallen On Me   \n",
       "\n",
       "                                                   text  \n",
       "0     Happiness  \\r\\nMore or less  \\r\\nIt's just a c...  \n",
       "1     Twinkle, Twinkle little star  \\r\\nHow I wonder...  \n",
       "2     Day in, day out  \\r\\nThe same old hoodoo follo...  \n",
       "3     Gonna scrape the trouble off my boots!  \\r\\n  ...  \n",
       "4     Mary Mac, dressed in black  \\r\\nSilver buttons...  \n",
       "...                                                 ...  \n",
       "4995  Sometimes I could just  \\r\\nSometimes I could ...  \n",
       "4996  (Well, well, well)  \\r\\n  \\r\\nWell I'm constan...  \n",
       "4997  Everybody all around the world, gotta tell you...  \n",
       "4998  When I fell from grace  \\r\\nI never realized  ...  \n",
       "4999  Love is a burning inside  \\r\\nI never had this...  \n",
       "\n",
       "[5000 rows x 3 columns]"
      ]
     },
     "execution_count": 11,
     "metadata": {},
     "output_type": "execute_result"
    }
   ],
   "source": [
    "df"
   ]
  },
  {
   "cell_type": "code",
   "execution_count": 12,
   "id": "3fbdc481-cd43-4fe6-ac7e-a9801bdb2dcf",
   "metadata": {},
   "outputs": [
    {
     "data": {
      "text/html": [
       "<div>\n",
       "<style scoped>\n",
       "    .dataframe tbody tr th:only-of-type {\n",
       "        vertical-align: middle;\n",
       "    }\n",
       "\n",
       "    .dataframe tbody tr th {\n",
       "        vertical-align: top;\n",
       "    }\n",
       "\n",
       "    .dataframe thead th {\n",
       "        text-align: right;\n",
       "    }\n",
       "</style>\n",
       "<table border=\"1\" class=\"dataframe\">\n",
       "  <thead>\n",
       "    <tr style=\"text-align: right;\">\n",
       "      <th></th>\n",
       "      <th>artist</th>\n",
       "      <th>song</th>\n",
       "      <th>text</th>\n",
       "    </tr>\n",
       "  </thead>\n",
       "  <tbody>\n",
       "    <tr>\n",
       "      <th>0</th>\n",
       "      <td>Verve</td>\n",
       "      <td>Lucky Man</td>\n",
       "      <td>Happiness  \\r\\nMore or less  \\r\\nIt's just a c...</td>\n",
       "    </tr>\n",
       "    <tr>\n",
       "      <th>1</th>\n",
       "      <td>ABBA</td>\n",
       "      <td>From A Twinkling Star To A Passing Angel</td>\n",
       "      <td>Twinkle, Twinkle little star  \\r\\nHow I wonder...</td>\n",
       "    </tr>\n",
       "    <tr>\n",
       "      <th>2</th>\n",
       "      <td>Judy Garland</td>\n",
       "      <td>Day In-Day Out</td>\n",
       "      <td>Day in, day out  \\r\\nThe same old hoodoo follo...</td>\n",
       "    </tr>\n",
       "  </tbody>\n",
       "</table>\n",
       "</div>"
      ],
      "text/plain": [
       "         artist                                      song  \\\n",
       "0         Verve                                 Lucky Man   \n",
       "1          ABBA  From A Twinkling Star To A Passing Angel   \n",
       "2  Judy Garland                            Day In-Day Out   \n",
       "\n",
       "                                                text  \n",
       "0  Happiness  \\r\\nMore or less  \\r\\nIt's just a c...  \n",
       "1  Twinkle, Twinkle little star  \\r\\nHow I wonder...  \n",
       "2  Day in, day out  \\r\\nThe same old hoodoo follo...  "
      ]
     },
     "execution_count": 12,
     "metadata": {},
     "output_type": "execute_result"
    }
   ],
   "source": [
    "df.head(3)"
   ]
  },
  {
   "cell_type": "code",
   "execution_count": 13,
   "id": "bb7ea389-c282-46d0-8852-278a2e7f79f2",
   "metadata": {},
   "outputs": [],
   "source": [
    "df['text'] = df['text'].str.lower().replace(r'^\\w\\s',' ').replace('\\n',' ',regex=True)"
   ]
  },
  {
   "cell_type": "code",
   "execution_count": 14,
   "id": "55b166a8-5532-4aaf-bc2e-1351e6db726a",
   "metadata": {},
   "outputs": [
    {
     "data": {
      "text/plain": [
       "\"happiness  \\r more or less  \\r it's just a change in me  \\r something in my liberty  \\r oh, my, my  \\r happiness  \\r coming and going  \\r i watch you look at me  \\r watch my fever growing  \\r i know just where i am  \\r   \\r but how many corners do i have to turn?  \\r how many times do i have to learn  \\r all the love i have is in my mind?  \\r   \\r well, i'm a lucky man  \\r with fire in my hands  \\r   \\r happiness  \\r something in my own place  \\r i'm standing naked  \\r smiling, i feel no disgrace  \\r with who i am  \\r   \\r happiness  \\r coming and going  \\r i watch you look at me  \\r watch my fever growing  \\r i know just who i am  \\r   \\r but how many corners do i have to turn?  \\r how many times do i have to learn  \\r all the love i have is in my mind?  \\r   \\r i hope you understand  \\r i hope you understand  \\r   \\r gotta love that'll never die  \\r   \\r happiness  \\r more or less  \\r it's just a change in me  \\r something in my liberty  \\r happiness  \\r coming and going  \\r i watch you look at me  \\r watch my fever growing  \\r i know  \\r oh, my, my  \\r oh, my, my  \\r oh, my, my  \\r oh, my, my  \\r   \\r gotta love that'll never die  \\r gotta love that'll never die  \\r no, no  \\r i'm a lucky man  \\r   \\r it's just a change in me  \\r something in my liberty  \\r it's just a change in me  \\r something in my liberty  \\r it's just a change in me  \\r something in my liberty  \\r oh, my, my  \\r oh, my, my  \\r it's just a change in me  \\r something in my liberty  \\r oh, my, my  \\r oh, my, my\\r \\r \""
      ]
     },
     "execution_count": 14,
     "metadata": {},
     "output_type": "execute_result"
    }
   ],
   "source": [
    "df['text'][0]"
   ]
  },
  {
   "cell_type": "code",
   "execution_count": 15,
   "id": "df4a0247-02bd-4765-ab3c-989b901ef5aa",
   "metadata": {},
   "outputs": [
    {
     "data": {
      "text/plain": [
       "0       happiness  \\r more or less  \\r it's just a cha...\n",
       "1       twinkle, twinkle little star  \\r how i wonder ...\n",
       "2       day in, day out  \\r the same old hoodoo follow...\n",
       "3       gonna scrape the trouble off my boots!  \\r   \\...\n",
       "4       mary mac, dressed in black  \\r silver buttons ...\n",
       "                              ...                        \n",
       "4995    sometimes i could just  \\r sometimes i could j...\n",
       "4996    (well, well, well)  \\r   \\r well i'm constantl...\n",
       "4997    everybody all around the world, gotta tell you...\n",
       "4998    when i fell from grace  \\r i never realized  \\...\n",
       "4999    love is a burning inside  \\r i never had this ...\n",
       "Name: text, Length: 5000, dtype: object"
      ]
     },
     "execution_count": 15,
     "metadata": {},
     "output_type": "execute_result"
    }
   ],
   "source": [
    "df['text']"
   ]
  },
  {
   "cell_type": "code",
   "execution_count": 17,
   "id": "3864a582-4356-4378-8a22-1b606130b42a",
   "metadata": {},
   "outputs": [],
   "source": [
    "import nltk\n",
    "from nltk.stem.porter import PorterStemmer\n",
    "stemmer = PorterStemmer()"
   ]
  },
  {
   "cell_type": "code",
   "execution_count": 18,
   "id": "742550f5",
   "metadata": {},
   "outputs": [
    {
     "name": "stderr",
     "output_type": "stream",
     "text": [
      "[nltk_data] Downloading package punkt to /home/codespace/nltk_data...\n",
      "[nltk_data]   Unzipping tokenizers/punkt.zip.\n"
     ]
    }
   ],
   "source": [
    "import nltk\n",
    "nltk.download('punkt')  # move this BEFORE using word_tokenize\n",
    "nltk.data.path.append('/home/codespace/nltk_data')  # use after downloading"
   ]
  },
  {
   "cell_type": "code",
   "execution_count": 19,
   "id": "f17b2e1e-bd2d-4edd-ad50-685e3ef574fe",
   "metadata": {},
   "outputs": [],
   "source": [
    "def tokenization(txt):\n",
    "    tokens = nltk.word_tokenize(txt, preserve_line=True)  # <--- bypasses sentence splitting\n",
    "    stemming = [stemmer.stem(w) for w in tokens]\n",
    "    return \" \".join(stemming)\n"
   ]
  },
  {
   "cell_type": "code",
   "execution_count": 20,
   "id": "73ada721-5535-418f-8c36-ff2226a922ca",
   "metadata": {},
   "outputs": [
    {
     "name": "stdout",
     "output_type": "stream",
     "text": [
      "you are so beauti\n"
     ]
    }
   ],
   "source": [
    "print(tokenization(\"you are so beautiful\"))  # should output: \"you are so beauti\""
   ]
  },
  {
   "cell_type": "code",
   "execution_count": 21,
   "id": "50094cce-4cd5-4ca0-84d2-408536ea1c40",
   "metadata": {},
   "outputs": [
    {
     "data": {
      "text/plain": [
       "'will you go there , there is noth'"
      ]
     },
     "execution_count": 21,
     "metadata": {},
     "output_type": "execute_result"
    }
   ],
   "source": [
    "tokenization(\"will you go there, there is nothing\")"
   ]
  },
  {
   "cell_type": "code",
   "execution_count": 22,
   "id": "26e289ce-2e5f-4316-a427-3bc0da8d5930",
   "metadata": {},
   "outputs": [
    {
     "data": {
      "text/plain": [
       "'happier , happi'"
      ]
     },
     "execution_count": 22,
     "metadata": {},
     "output_type": "execute_result"
    }
   ],
   "source": [
    "tokenization(\"happier,happy\")"
   ]
  },
  {
   "cell_type": "code",
   "execution_count": 23,
   "id": "3b7ccf89-7e05-4725-8027-6ef16a5aae77",
   "metadata": {},
   "outputs": [
    {
     "data": {
      "text/plain": [
       "'beauti , beauti , beauti'"
      ]
     },
     "execution_count": 23,
     "metadata": {},
     "output_type": "execute_result"
    }
   ],
   "source": [
    "tokenization(\"beautiful,beauty,beauti\")"
   ]
  },
  {
   "cell_type": "code",
   "execution_count": 24,
   "id": "8985d360-96e8-477f-ac83-0a05bc0fda20",
   "metadata": {},
   "outputs": [
    {
     "data": {
      "text/plain": [
       "\"happi more or less it 's just a chang in me someth in my liberti oh , my , my happi come and go i watch you look at me watch my fever grow i know just where i am but how mani corner do i have to turn ? how mani time do i have to learn all the love i have is in my mind ? well , i 'm a lucki man with fire in my hand happi someth in my own place i 'm stand nake smile , i feel no disgrac with who i am happi come and go i watch you look at me watch my fever grow i know just who i am but how mani corner do i have to turn ? how mani time do i have to learn all the love i have is in my mind ? i hope you understand i hope you understand got ta love that 'll never die happi more or less it 's just a chang in me someth in my liberti happi come and go i watch you look at me watch my fever grow i know oh , my , my oh , my , my oh , my , my oh , my , my got ta love that 'll never die got ta love that 'll never die no , no i 'm a lucki man it 's just a chang in me someth in my liberti it 's just a chang in me someth in my liberti it 's just a chang in me someth in my liberti oh , my , my oh , my , my it 's just a chang in me someth in my liberti oh , my , my oh , my , my\""
      ]
     },
     "execution_count": 24,
     "metadata": {},
     "output_type": "execute_result"
    }
   ],
   "source": [
    "tokenization(df['text'][0])"
   ]
  },
  {
   "cell_type": "markdown",
   "id": "fc46ec82-a3a6-472a-a31c-e8a528fb131e",
   "metadata": {},
   "source": [
    "Only words remains in there reduced form are there in lyrics('text')"
   ]
  },
  {
   "cell_type": "code",
   "execution_count": 25,
   "id": "c4ac3e13-e436-461e-b348-ecd1265d1113",
   "metadata": {},
   "outputs": [
    {
     "data": {
      "text/plain": [
       "\"happi more or less it 's just a chang in me someth in my liberti oh , my , my happi come and go i watch you look at me watch my fever grow i know just where i am but how mani corner do i have to turn ? how mani time do i have to learn all the love i have is in my mind ? well , i 'm a lucki man with fire in my hand happi someth in my own place i 'm stand nake smile , i feel no disgrac with who i am happi come and go i watch you look at me watch my fever grow i know just who i am but how mani corner do i have to turn ? how mani time do i have to learn all the love i have is in my mind ? i hope you understand i hope you understand got ta love that 'll never die happi more or less it 's just a chang in me someth in my liberti happi come and go i watch you look at me watch my fever grow i know oh , my , my oh , my , my oh , my , my oh , my , my got ta love that 'll never die got ta love that 'll never die no , no i 'm a lucki man it 's just a chang in me someth in my liberti it 's just a chang in me someth in my liberti it 's just a chang in me someth in my liberti oh , my , my oh , my , my it 's just a chang in me someth in my liberti oh , my , my oh , my , my\""
      ]
     },
     "execution_count": 25,
     "metadata": {},
     "output_type": "execute_result"
    }
   ],
   "source": [
    "tokenization(df['text'][0])"
   ]
  },
  {
   "cell_type": "code",
   "execution_count": 26,
   "id": "56c3adc7-f73b-422d-9cbe-fac19797dcf0",
   "metadata": {},
   "outputs": [],
   "source": [
    "df['text'] = df['text'].apply(lambda x: tokenization(x))"
   ]
  },
  {
   "cell_type": "code",
   "execution_count": 27,
   "id": "b3b3bfac-11db-420a-bf89-a269c0e1bd30",
   "metadata": {},
   "outputs": [
    {
     "data": {
      "text/plain": [
       "0    happi more or less it 's just a chang in me so...\n",
       "1    twinkl , twinkl littl star how i wonder what y...\n",
       "2    day in , day out the same old hoodoo follow me...\n",
       "Name: text, dtype: object"
      ]
     },
     "execution_count": 27,
     "metadata": {},
     "output_type": "execute_result"
    }
   ],
   "source": [
    "df['text'][0:3]"
   ]
  },
  {
   "cell_type": "code",
   "execution_count": 28,
   "id": "373d507b-3dfa-4242-a075-d68fff63949d",
   "metadata": {},
   "outputs": [
    {
     "data": {
      "text/plain": [
       "0       happi more or less it 's just a chang in me so...\n",
       "1       twinkl , twinkl littl star how i wonder what y...\n",
       "2       day in , day out the same old hoodoo follow me...\n",
       "3       gon na scrape the troubl off my boot ! as they...\n",
       "4       mari mac , dress in black silver button up and...\n",
       "                              ...                        \n",
       "4995    sometim i could just sometim i could just some...\n",
       "4996    ( well , well , well ) well i 'm constantli di...\n",
       "4997    everybodi all around the world , got ta tell y...\n",
       "4998    when i fell from grace i never realiz how deep...\n",
       "4999    love is a burn insid i never had thi feel befo...\n",
       "Name: text, Length: 5000, dtype: object"
      ]
     },
     "execution_count": 28,
     "metadata": {},
     "output_type": "execute_result"
    }
   ],
   "source": [
    "df['text']"
   ]
  },
  {
   "cell_type": "code",
   "execution_count": 29,
   "id": "671c3fad-9184-477f-8101-92fe682ce3da",
   "metadata": {},
   "outputs": [],
   "source": [
    "from sklearn.feature_extraction.text import TfidfVectorizer\n",
    "from sklearn.metrics.pairwise import cosine_similarity"
   ]
  },
  {
   "cell_type": "code",
   "execution_count": 30,
   "id": "f7d02670-3680-4e35-8311-d6dffee219f2",
   "metadata": {},
   "outputs": [],
   "source": [
    "tfidvector = TfidfVectorizer(analyzer='word',stop_words='english')"
   ]
  },
  {
   "cell_type": "code",
   "execution_count": 31,
   "id": "b2876a83-271a-4f7e-8fad-94d9ca6466c2",
   "metadata": {},
   "outputs": [],
   "source": [
    "matrix = tfidvector.fit_transform(df['text'])"
   ]
  },
  {
   "cell_type": "code",
   "execution_count": 32,
   "id": "17e94bb5-1b8c-4800-a091-fc49d8c14096",
   "metadata": {},
   "outputs": [
    {
     "data": {
      "text/plain": [
       "<Compressed Sparse Row sparse matrix of dtype 'float64'\n",
       "\twith 275451 stored elements and shape (5000, 18707)>"
      ]
     },
     "execution_count": 32,
     "metadata": {},
     "output_type": "execute_result"
    }
   ],
   "source": [
    "matrix"
   ]
  },
  {
   "cell_type": "code",
   "execution_count": 33,
   "id": "456aa568-b05f-43a1-adf6-efad37954aca",
   "metadata": {},
   "outputs": [],
   "source": [
    "similarity = cosine_similarity(matrix)"
   ]
  },
  {
   "cell_type": "code",
   "execution_count": 34,
   "id": "cf9f1415-a4e7-4e11-b2d9-054be82fbbac",
   "metadata": {},
   "outputs": [
    {
     "data": {
      "text/plain": [
       "array([[1.        , 0.03106533, 0.01335425, ..., 0.04555093, 0.03993953,\n",
       "        0.11121198],\n",
       "       [0.03106533, 1.        , 0.04391779, ..., 0.02691825, 0.02701723,\n",
       "        0.0335685 ],\n",
       "       [0.01335425, 0.04391779, 1.        , ..., 0.01694613, 0.01028256,\n",
       "        0.11762912]], shape=(3, 5000))"
      ]
     },
     "execution_count": 34,
     "metadata": {},
     "output_type": "execute_result"
    }
   ],
   "source": [
    "similarity[0:3]"
   ]
  },
  {
   "cell_type": "code",
   "execution_count": 35,
   "id": "8ea2bae3-1ae0-4775-8882-bd4ad400fada",
   "metadata": {},
   "outputs": [],
   "source": [
    "def recommendation(song_df):\n",
    "    # Check if the song exists in the DataFrame\n",
    "    if song_df not in df['song'].values:\n",
    "        print(f\"Song '{song_df}' not found in the dataset.\")\n",
    "        return\n",
    "    \n",
    "    idx = df[df['song'] == song_df].index[0]\n",
    "    distances = sorted(list(enumerate(similarity[idx])), reverse=True, key=lambda x: x[1])\n",
    "    \n",
    "    songs = []\n",
    "    for i in distances[1:11]:  # Assuming you want to return the top 10 recommendations\n",
    "        songs.append(df.iloc[i[0]]['song'])\n",
    "    \n",
    "    return songs\n"
   ]
  },
  {
   "cell_type": "code",
   "execution_count": 36,
   "id": "5952e49a-d9e0-4a32-bfb5-1861cf48bd38",
   "metadata": {},
   "outputs": [
    {
     "name": "stdout",
     "output_type": "stream",
     "text": [
      "Song 'Say I Do' not found in the dataset.\n"
     ]
    }
   ],
   "source": [
    "recommendation(\"Say I Do\")"
   ]
  },
  {
   "cell_type": "code",
   "execution_count": 37,
   "id": "acef7eb3-210b-40f4-a1d0-6216ece473ab",
   "metadata": {},
   "outputs": [
    {
     "name": "stdout",
     "output_type": "stream",
     "text": [
      "Song 'Higher' not found in the dataset.\n"
     ]
    }
   ],
   "source": [
    "recommendation('Higher')"
   ]
  },
  {
   "cell_type": "code",
   "execution_count": 38,
   "id": "1138ed24-2e92-465b-8383-c4c84f052011",
   "metadata": {},
   "outputs": [],
   "source": [
    "import pickle"
   ]
  },
  {
   "cell_type": "code",
   "execution_count": 39,
   "id": "a2d20a1e-5edb-460a-9f87-c7e1716cf9d2",
   "metadata": {},
   "outputs": [],
   "source": [
    "pickle.dump(similarity, open('similarity.pkl','wb'))\n",
    "pickle.dump(df,open('df.pkl','wb'))"
   ]
  }
 ],
 "metadata": {
  "kernelspec": {
   "display_name": "Python 3",
   "language": "python",
   "name": "python3"
  },
  "language_info": {
   "codemirror_mode": {
    "name": "ipython",
    "version": 3
   },
   "file_extension": ".py",
   "mimetype": "text/x-python",
   "name": "python",
   "nbconvert_exporter": "python",
   "pygments_lexer": "ipython3",
   "version": "3.12.1"
  }
 },
 "nbformat": 4,
 "nbformat_minor": 5
}
